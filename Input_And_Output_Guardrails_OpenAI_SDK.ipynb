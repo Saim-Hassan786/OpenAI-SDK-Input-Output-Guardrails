{
  "nbformat": 4,
  "nbformat_minor": 0,
  "metadata": {
    "colab": {
      "provenance": [],
      "toc_visible": true,
      "authorship_tag": "ABX9TyO7a5BEGYnyXUV/8L8O1GIR",
      "include_colab_link": true
    },
    "kernelspec": {
      "name": "python3",
      "display_name": "Python 3"
    },
    "language_info": {
      "name": "python"
    }
  },
  "cells": [
    {
      "cell_type": "markdown",
      "metadata": {
        "id": "view-in-github",
        "colab_type": "text"
      },
      "source": [
        "<a href=\"https://colab.research.google.com/github/Saim-Hassan786/OpenAI-SDK-Input-Output-Guardrails/blob/main/Input_And_Output_Guardrails_OpenAI_SDK.ipynb\" target=\"_parent\"><img src=\"https://colab.research.google.com/assets/colab-badge.svg\" alt=\"Open In Colab\"/></a>"
      ]
    },
    {
      "cell_type": "markdown",
      "source": [
        "# Input And Output Guardrails With OpenAI Agents SDK"
      ],
      "metadata": {
        "id": "GbvWke6e2BHx"
      }
    },
    {
      "cell_type": "code",
      "execution_count": 2,
      "metadata": {
        "id": "QieheACt-rVr"
      },
      "outputs": [],
      "source": [
        "!pip install -Uq openai-agents"
      ]
    },
    {
      "cell_type": "code",
      "source": [
        "import nest_asyncio\n",
        "nest_asyncio.apply()"
      ],
      "metadata": {
        "id": "S109EGcqOcEy"
      },
      "execution_count": 10,
      "outputs": []
    },
    {
      "cell_type": "code",
      "source": [
        "from google.colab import userdata\n",
        "GOOGLE_API_KEY = userdata.get(\"GOOGLE_API_KEY\")"
      ],
      "metadata": {
        "id": "JnDhsli6HGUu"
      },
      "execution_count": 3,
      "outputs": []
    },
    {
      "cell_type": "code",
      "source": [
        "from agents import (\n",
        "    Agent,\n",
        "    Runner,\n",
        "    set_default_openai_client,\n",
        "    set_default_openai_api,\n",
        "    set_tracing_disabled,\n",
        "    TResponseInputItem,\n",
        "    RunContextWrapper,\n",
        "    GuardrailFunctionOutput,\n",
        "    input_guardrail,\n",
        "    InputGuardrailTripwireTriggered,\n",
        "    output_guardrail,\n",
        "    OutputGuardrailTripwireTriggered,\n",
        ")"
      ],
      "metadata": {
        "id": "mpUE-voNHfrK"
      },
      "execution_count": 13,
      "outputs": []
    },
    {
      "cell_type": "code",
      "source": [
        "from openai import AsyncOpenAI\n",
        "from pydantic import BaseModel\n",
        "\n",
        "external_client = AsyncOpenAI(\n",
        "    base_url=\"https://generativelanguage.googleapis.com/v1beta/openai/\",\n",
        "    api_key=GOOGLE_API_KEY,\n",
        ")\n",
        "set_default_openai_client(external_client)\n",
        "set_tracing_disabled(True)\n",
        "set_default_openai_api(\"chat_completions\")"
      ],
      "metadata": {
        "id": "81J5-RHbIDYo"
      },
      "execution_count": 12,
      "outputs": []
    },
    {
      "cell_type": "markdown",
      "source": [
        "# Input Guardrails Code"
      ],
      "metadata": {
        "id": "JdJ55YfzPOYV"
      }
    },
    {
      "cell_type": "code",
      "source": [
        "class MathHomework(BaseModel):\n",
        "  reasoning : str\n",
        "  is_math_homework : bool\n",
        "\n",
        "input_guardrail_agent = Agent(\n",
        "    name = \"Input Guardrail Agent\",\n",
        "    instructions=\"Check if the User input is related to a math question or not\",\n",
        "    model = \"gemini-2.0-flash\",\n",
        "    output_type=MathHomework\n",
        ")\n",
        "\n",
        "@input_guardrail\n",
        "async def check_math_query(context:RunContextWrapper,agent:Agent,input:str | list[TResponseInputItem])-> GuardrailFunctionOutput:\n",
        "  result = await Runner.run(\n",
        "      input_guardrail_agent,\n",
        "      input = input,\n",
        "      context = context.context\n",
        "  )\n",
        "  final_result = result.final_output_as(MathHomework)\n",
        "  return GuardrailFunctionOutput(\n",
        "      output_info = final_result,\n",
        "      tripwire_triggered = final_result.is_math_homework\n",
        "  )\n",
        "\n",
        "main_agent = Agent(\n",
        "    name= \"Customer Support Agent\",\n",
        "    instructions=\"You are responsible for answering the user queries\",\n",
        "    model = \"gemini-2.0-flash\",\n",
        "    input_guardrails=[check_math_query]\n",
        ")\n",
        "\n",
        "async def main():\n",
        "  try :\n",
        "    result = await Runner.run(\n",
        "        main_agent,\n",
        "        \"What is the exponent in mathematics\"\n",
        "    )\n",
        "    print(result.final_output)\n",
        "  except InputGuardrailTripwireTriggered as e:\n",
        "    print(\"Mathematical Questions are not Allowed\")"
      ],
      "metadata": {
        "id": "Ixh1SB-oIkjT"
      },
      "execution_count": 27,
      "outputs": []
    },
    {
      "cell_type": "code",
      "source": [
        "import asyncio\n",
        "asyncio.run(main())"
      ],
      "metadata": {
        "colab": {
          "base_uri": "https://localhost:8080/"
        },
        "id": "zFvx4x9HS82E",
        "outputId": "bf898d91-5545-483d-9cec-fbeba2dc87a0"
      },
      "execution_count": 28,
      "outputs": [
        {
          "output_type": "stream",
          "name": "stdout",
          "text": [
            "Mathematical Questions are not Allowed\n"
          ]
        }
      ]
    },
    {
      "cell_type": "markdown",
      "source": [
        "# Output Guardrails Code"
      ],
      "metadata": {
        "id": "p-jehKXjjaTJ"
      }
    },
    {
      "cell_type": "code",
      "source": [
        "class Response(BaseModel):\n",
        "  response : str\n",
        "\n",
        "class Mathoutput(BaseModel):\n",
        "  reasoning : str\n",
        "  is_math_homework : bool\n",
        "\n",
        "output_guardrail_agent = Agent(\n",
        "    name = \"Output Guardrail Agent\",\n",
        "    instructions=\"Check if the User input is related to a math question or not\",\n",
        "    model = \"gemini-2.0-flash\",\n",
        "    output_type=Mathoutput\n",
        ")\n",
        "\n",
        "@output_guardrail\n",
        "async def check_math_output(context:RunContextWrapper, agent:Agent, output: Response)-> GuardrailFunctionOutput:\n",
        "  result = await Runner.run(\n",
        "      output_guardrail_agent,\n",
        "      input = output.response,\n",
        "      context = context.context\n",
        "  )\n",
        "  return GuardrailFunctionOutput(\n",
        "      output_info = result.final_output,\n",
        "      tripwire_triggered = result.final_output.is_math_homework\n",
        "  )\n",
        "\n",
        "main_agent_2 = Agent(\n",
        "    name= \"Customer Support Agent\",\n",
        "    instructions=\"You are responsible for answering the user queries\",\n",
        "    model = \"gemini-2.0-flash\",\n",
        "    output_guardrails=[check_math_output],\n",
        "    output_type=Response\n",
        ")\n",
        "\n",
        "async def main_1():\n",
        "  try:\n",
        "    result = await Runner.run(\n",
        "        main_agent_2,\n",
        "        \"What is the exponent in mathematics\"\n",
        "    )\n",
        "    print(result.final_output)\n",
        "  except OutputGuardrailTripwireTriggered as e:\n",
        "    print(\"Mathematical Question Outputs are not Allowed\")\n",
        ""
      ],
      "metadata": {
        "id": "05yaWq5ZTBpA"
      },
      "execution_count": 33,
      "outputs": []
    },
    {
      "cell_type": "code",
      "source": [
        "asyncio.run(main_1())"
      ],
      "metadata": {
        "colab": {
          "base_uri": "https://localhost:8080/"
        },
        "id": "6z-dr-i2pYfL",
        "outputId": "5e6ba1a9-abbb-40c1-fa4c-97ae4b70249a"
      },
      "execution_count": 34,
      "outputs": [
        {
          "output_type": "stream",
          "name": "stdout",
          "text": [
            "Mathematical Question Outputs are not Allowed\n"
          ]
        }
      ]
    },
    {
      "cell_type": "code",
      "source": [],
      "metadata": {
        "id": "d7x5OtH_peNV"
      },
      "execution_count": null,
      "outputs": []
    }
  ]
}